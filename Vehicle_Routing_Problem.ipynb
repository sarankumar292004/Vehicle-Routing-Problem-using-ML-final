{
  "nbformat": 4,
  "nbformat_minor": 0,
  "metadata": {
    "colab": {
      "provenance": []
    },
    "kernelspec": {
      "name": "python3",
      "display_name": "Python 3"
    },
    "language_info": {
      "name": "python"
    }
  },
  "cells": [
    {
      "cell_type": "code",
      "execution_count": null,
      "metadata": {
        "colab": {
          "base_uri": "https://localhost:8080/"
        },
        "id": "Uft0_m3bPv7z",
        "outputId": "aa52eff5-3e6e-446f-9bc4-df71d4e08ca5"
      },
      "outputs": [
        {
          "output_type": "stream",
          "name": "stdout",
          "text": [
            "Requirement already satisfied: matplotlib in /usr/local/lib/python3.10/dist-packages (3.10.0)\n",
            "Requirement already satisfied: deap in /usr/local/lib/python3.10/dist-packages (1.4.1)\n",
            "Requirement already satisfied: contourpy>=1.0.1 in /usr/local/lib/python3.10/dist-packages (from matplotlib) (1.3.1)\n",
            "Requirement already satisfied: cycler>=0.10 in /usr/local/lib/python3.10/dist-packages (from matplotlib) (0.12.1)\n",
            "Requirement already satisfied: fonttools>=4.22.0 in /usr/local/lib/python3.10/dist-packages (from matplotlib) (4.55.3)\n",
            "Requirement already satisfied: kiwisolver>=1.3.1 in /usr/local/lib/python3.10/dist-packages (from matplotlib) (1.4.8)\n",
            "Requirement already satisfied: numpy>=1.23 in /usr/local/lib/python3.10/dist-packages (from matplotlib) (1.26.4)\n",
            "Requirement already satisfied: packaging>=20.0 in /usr/local/lib/python3.10/dist-packages (from matplotlib) (24.2)\n",
            "Requirement already satisfied: pillow>=8 in /usr/local/lib/python3.10/dist-packages (from matplotlib) (11.1.0)\n",
            "Requirement already satisfied: pyparsing>=2.3.1 in /usr/local/lib/python3.10/dist-packages (from matplotlib) (3.2.1)\n",
            "Requirement already satisfied: python-dateutil>=2.7 in /usr/local/lib/python3.10/dist-packages (from matplotlib) (2.8.2)\n",
            "Requirement already satisfied: six>=1.5 in /usr/local/lib/python3.10/dist-packages (from python-dateutil>=2.7->matplotlib) (1.17.0)\n"
          ]
        }
      ],
      "source": [
        "#TASK 1 - Install matplotlib and deap\n",
        "!pip install matplotlib deap"
      ]
    },
    {
      "cell_type": "code",
      "source": [
        "#Import all necessary libraries\n",
        "import random\n",
        "import numpy as np\n",
        "import pandas as pd\n",
        "import matplotlib.pyplot as plt\n",
        "from deap import base, creator, tools, algorithms"
      ],
      "metadata": {
        "id": "W33hvxapRM9H"
      },
      "execution_count": null,
      "outputs": []
    },
    {
      "cell_type": "code",
      "source": [
        "# TODO: Task 2 - Define the number of locations and vehicles\n",
        "\n",
        "# Define the number of locations (eg 10)\n",
        "num_locations = 10"
      ],
      "metadata": {
        "id": "52YKWGfLRtpH"
      },
      "execution_count": null,
      "outputs": []
    },
    {
      "cell_type": "code",
      "source": [
        "# Create a list of tuples representing location coordinates\n",
        "# (x, y) could be between 0 and 100\n",
        "locations = [(random.randint(0, 100), random.randint(0, 100)) for _ in range(num_locations)]\n"
      ],
      "metadata": {
        "id": "nxSLFD1PSGlC"
      },
      "execution_count": null,
      "outputs": []
    },
    {
      "cell_type": "code",
      "source": [
        "# Define the coordinates for the depot\n",
        "depot = (random.randint(0, 100), random.randint(0, 100))"
      ],
      "metadata": {
        "id": "IQbWueMzSLtK"
      },
      "execution_count": null,
      "outputs": []
    },
    {
      "cell_type": "code",
      "source": [
        "# Define the number of vehicles\n",
        "num_vehicles = 3"
      ],
      "metadata": {
        "id": "h-4FfdaSSPSU"
      },
      "execution_count": null,
      "outputs": []
    },
    {
      "cell_type": "code",
      "source": [
        "# Print the generated data\n",
        "print(\"Number of Locations:\", num_locations)\n",
        "print(\"Locations:\", locations)\n",
        "print(\"Depot:\", depot)\n",
        "print(\"Number of Vehicles:\", num_vehicles)"
      ],
      "metadata": {
        "colab": {
          "base_uri": "https://localhost:8080/"
        },
        "id": "iwEai5P-SS1w",
        "outputId": "8bafbc1a-be5b-4afc-bbe0-11139b6aed38"
      },
      "execution_count": null,
      "outputs": [
        {
          "output_type": "stream",
          "name": "stdout",
          "text": [
            "Number of Locations: 10\n",
            "Locations: [(54, 85), (31, 51), (32, 67), (88, 29), (12, 94), (2, 1), (57, 81), (33, 74), (71, 85), (55, 22)]\n",
            "Depot: (99, 14)\n",
            "Number of Vehicles: 3\n"
          ]
        }
      ]
    },
    {
      "cell_type": "code",
      "source": [
        "# TASK 3 - Genetic Algorithm Setup\n",
        "\n",
        "creator.create(\"FitnessMin\", base.Fitness, weights=(-1.0,))  # Weights indicate minimization\n",
        "creator.create(\"Individual\", list, fitness=creator.FitnessMin)\n",
        "toolbox = base.Toolbox()"
      ],
      "metadata": {
        "colab": {
          "base_uri": "https://localhost:8080/"
        },
        "id": "Kc91WSGjUP1k",
        "outputId": "dddee1a2-5813-49ed-96bf-24472a61fc93"
      },
      "execution_count": null,
      "outputs": [
        {
          "output_type": "stream",
          "name": "stderr",
          "text": [
            "/usr/local/lib/python3.10/dist-packages/deap/creator.py:185: RuntimeWarning: A class named 'FitnessMin' has already been created and it will be overwritten. Consider deleting previous creation of that class or rename it.\n",
            "  warnings.warn(\"A class named '{0}' has already been created and it \"\n",
            "/usr/local/lib/python3.10/dist-packages/deap/creator.py:185: RuntimeWarning: A class named 'Individual' has already been created and it will be overwritten. Consider deleting previous creation of that class or rename it.\n",
            "  warnings.warn(\"A class named '{0}' has already been created and it \"\n"
          ]
        }
      ]
    },
    {
      "cell_type": "code",
      "source": [
        "num_locations = 10  # Total locations\n",
        "toolbox.register(\"attribute\", random.sample, range(num_locations), num_locations)  # Random sequence of locations\n"
      ],
      "metadata": {
        "id": "h1lVnhKoUbqs"
      },
      "execution_count": null,
      "outputs": []
    },
    {
      "cell_type": "code",
      "source": [
        "toolbox.register(\"individual\", tools.initIterate, creator.Individual, toolbox.attribute)\n",
        "toolbox.register(\"population\", tools.initRepeat, list, toolbox.individual)\n"
      ],
      "metadata": {
        "id": "QnMAto8oUdH6"
      },
      "execution_count": null,
      "outputs": []
    },
    {
      "cell_type": "code",
      "source": [
        "population_size = 50\n",
        "population = toolbox.population(n=population_size)\n"
      ],
      "metadata": {
        "id": "rh145KnaUmM9"
      },
      "execution_count": null,
      "outputs": []
    },
    {
      "cell_type": "code",
      "source": [
        "print(\"First Individual:\", population[0])\n",
        "print(\"Fitness of the First Individual:\", population[0].fitness.values)"
      ],
      "metadata": {
        "colab": {
          "base_uri": "https://localhost:8080/"
        },
        "id": "suaPMjkcUn9D",
        "outputId": "87571a5d-a904-4175-dfd2-82ec2f695549"
      },
      "execution_count": null,
      "outputs": [
        {
          "output_type": "stream",
          "name": "stdout",
          "text": [
            "First Individual: [6, 0, 1, 3, 8, 7, 9, 2, 5, 4]\n",
            "Fitness of the First Individual: ()\n"
          ]
        }
      ]
    },
    {
      "cell_type": "code",
      "source": [
        "#TASK 4 - Starting with the toolbox and tools\n",
        "\n",
        "# Define the fitness function (minimization problem)\n",
        "creator.create(\"FitnessMin\", base.Fitness, weights=(-1.0,))  # Minimization problem\n",
        "\n",
        "# Define the individual (a list of integers)\n",
        "creator.create(\"Individual\", list, fitness=creator.FitnessMin)\n",
        "\n",
        "# Create a toolbox to register functions\n",
        "toolbox = base.Toolbox()\n",
        "\n",
        "# Define how to generate indices (random permutation of locations)\n",
        "num_locations = 10  # Example: total locations\n",
        "toolbox.register(\"indices\", random.sample, range(num_locations), num_locations)\n",
        "\n",
        "# Define how to build an individual\n",
        "toolbox.register(\"individual\", tools.initIterate, creator.Individual, toolbox.indices)\n",
        "\n",
        "# Define how to build a population\n",
        "toolbox.register(\"population\", tools.initRepeat, list, toolbox.individual)\n",
        "\n",
        "# Example: Create a population of size 50\n",
        "population_size = 50\n",
        "population = toolbox.population(n=population_size)\n",
        "\n",
        "# Print the first individual and population size\n",
        "print(\"First Individual:\", population[0])\n",
        "print(\"Population Size:\", len(population))\n"
      ],
      "metadata": {
        "colab": {
          "base_uri": "https://localhost:8080/"
        },
        "id": "M7D4W97vVEJ9",
        "outputId": "dee1116b-c1cd-4a15-8e9d-d6b4a4f7e2f8"
      },
      "execution_count": null,
      "outputs": [
        {
          "output_type": "stream",
          "name": "stdout",
          "text": [
            "First Individual: [0, 7, 9, 4, 8, 3, 2, 5, 1, 6]\n",
            "Population Size: 50\n"
          ]
        }
      ]
    },
    {
      "cell_type": "code",
      "source": [
        "# TASK 5 and 6\n",
        "\n",
        "import math\n",
        "from statistics import stdev\n",
        "# Task 5: Fitness Evaluation Function\n",
        "def evalVRP(individual):\n",
        "    \"\"\"Calculate total distance and standard deviation of distances for VRP.\"\"\"\n",
        "    def distance(p1, p2):\n",
        "        return math.sqrt((p1[0] - p2[0]) ** 2 + (p1[1] - p2[1]) ** 2)\n",
        "\n",
        "    # Calculate distances\n",
        "    distances = [distance(depot, locations[individual[0]])]  # From depot to first location\n",
        "    distances += [distance(locations[individual[i]], locations[individual[i + 1]]) for i in range(len(individual) - 1)]\n",
        "    distances.append(distance(locations[individual[-1]], depot))  # From last location to depot\n",
        "\n",
        "    # Return total distance and standard deviation\n",
        "    return sum(distances), stdev(distances)\n",
        "\n",
        "# Task 6: Register the Evaluation Function\n",
        "# Setup for DEAP\n",
        "creator.create(\"FitnessMin\", base.Fitness, weights=(-1.0, -1.0))  # Minimize both total distance and standard deviation\n",
        "creator.create(\"Individual\", list, fitness=creator.FitnessMin)\n",
        "toolbox = base.Toolbox()\n",
        "\n",
        "# Example setup for locations and depot\n",
        "num_locations = 10\n",
        "locations = [(random.randint(0, 100), random.randint(0, 100)) for _ in range(num_locations)]\n",
        "depot = (50, 50)  # Fixed depot location\n",
        "\n",
        "# Register functions in the toolbox\n",
        "toolbox.register(\"indices\", random.sample, range(num_locations), num_locations)\n",
        "toolbox.register(\"individual\", tools.initIterate, creator.Individual, toolbox.indices)\n",
        "toolbox.register(\"population\", tools.initRepeat, list, toolbox.individual)\n",
        "toolbox.register(\"evaluate\", evalVRP)\n",
        "\n",
        "# Test the setup\n",
        "population = toolbox.population(n=5)  # Create a small population\n",
        "for ind in population:\n",
        "    ind.fitness.values = toolbox.evaluate(ind)  # Assign fitness\n",
        "    print(f\"Individual: {ind}\")\n",
        "    print(f\"Fitness (Total Distance, Standard Deviation): {ind.fitness.values}\")\n"
      ],
      "metadata": {
        "colab": {
          "base_uri": "https://localhost:8080/"
        },
        "id": "ST0Zu3LfaKT9",
        "outputId": "2494c2e3-203b-4b1d-e4db-040d979842a5"
      },
      "execution_count": null,
      "outputs": [
        {
          "output_type": "stream",
          "name": "stdout",
          "text": [
            "Individual: [1, 2, 3, 9, 6, 8, 0, 7, 4, 5]\n",
            "Fitness (Total Distance, Standard Deviation): (582.2288474225729, 20.96351142276901)\n",
            "Individual: [2, 3, 6, 1, 7, 0, 5, 9, 4, 8]\n",
            "Fitness (Total Distance, Standard Deviation): (539.351222712973, 21.096371630733298)\n",
            "Individual: [1, 0, 6, 3, 4, 8, 2, 5, 9, 7]\n",
            "Fitness (Total Distance, Standard Deviation): (517.0589341359384, 21.07002580794191)\n",
            "Individual: [4, 9, 1, 5, 6, 8, 2, 0, 7, 3]\n",
            "Fitness (Total Distance, Standard Deviation): (470.6110917882679, 18.584744546842842)\n",
            "Individual: [5, 1, 2, 3, 8, 0, 7, 9, 4, 6]\n",
            "Fitness (Total Distance, Standard Deviation): (526.6132505114847, 13.823722819759151)\n"
          ]
        }
      ]
    },
    {
      "cell_type": "code",
      "source": [
        "import math\n",
        "import numpy as np\n",
        "\n",
        "# Example data\n",
        "num_vehicles = 2  # Number of vehicles\n",
        "depot = (0, 0)  # Depot coordinates\n",
        "locations = [(10, 20), (30, 40), (50, 60), (70, 80), (90, 100)]  # Locations\n",
        "\n",
        "# Example individual (route representation)\n",
        "individual = [3, 1, 2, 4, 0]  # This individual lists the order in which locations are visited\n",
        "\n",
        "# Define evalVRP function\n",
        "def evalVRP(individual):\n",
        "    total_distance = 0\n",
        "    distances = []  # Track distance traveled by each vehicle for balance calculation\n",
        "\n",
        "    # Split the list of locations among vehicles, ensuring each starts and ends at the depot\n",
        "    for i in range(num_vehicles):\n",
        "        # Generate the route for the current vehicle\n",
        "        vehicle_route = [depot] + [locations[individual[j]] for j in range(i, len(individual), num_vehicles)] + [depot]\n",
        "\n",
        "        # Calculate total distance traveled by this vehicle\n",
        "        vehicle_distance = sum(\n",
        "            math.sqrt((vehicle_route[k][0] - vehicle_route[k + 1][0]) ** 2 + (vehicle_route[k][1] - vehicle_route[k + 1][1]) ** 2)\n",
        "            for k in range(len(vehicle_route) - 1)\n",
        "        )\n",
        "\n",
        "        total_distance += vehicle_distance\n",
        "        distances.append(vehicle_distance)\n",
        "\n",
        "    # Calculate the balance penalty as the standard deviation of distances\n",
        "    balance_penalty = np.std(distances)  # Standard deviation of distances for vehicle balance\n",
        "    return total_distance, balance_penalty\n",
        "\n",
        "# Call the evalVRP function with the individual\n",
        "total_distance, balance_penalty = evalVRP(individual)\n",
        "\n",
        "# Print the results\n",
        "print(f\"Total Distance: {total_distance}\")\n",
        "print(f\"Balance Penalty: {balance_penalty}\")\n"
      ],
      "metadata": {
        "colab": {
          "base_uri": "https://localhost:8080/"
        },
        "id": "MWr0eRbjppeD",
        "outputId": "1b5fbfe2-7eea-46b8-ff68-51a2a7537715"
      },
      "execution_count": null,
      "outputs": [
        {
          "output_type": "stream",
          "name": "stdout",
          "text": [
            "Total Distance: 482.9040058578529\n",
            "Balance Penalty: 27.937051284196343\n"
          ]
        }
      ]
    },
    {
      "cell_type": "code",
      "source": [
        "# Task 7 - Configure genetic operators\n",
        "\n",
        "# Crossover (uniform crossover)\n",
        "toolbox.register(\"mate\", tools.cxUniform, indpb=0.5)\n",
        "\n",
        "# Mutation (swap mutation)\n",
        "toolbox.register(\"mutate\", tools.mutShuffleIndexes, indpb=0.2)\n",
        "\n",
        "# Selection (tournament selection)\n",
        "toolbox.register(\"select\", tools.selTournament, tournsize=3)\n",
        "\n",
        "# Example of how to use these operators\n",
        "if __name__ == \"__main__\":\n",
        "    # Create a population\n",
        "    population = toolbox.population(n=10)\n",
        "\n",
        "    # Perform crossover on two individuals\n",
        "    offspring = toolbox.mate(population[0], population[1])\n",
        "\n",
        "    # Perform mutation on the offspring\n",
        "    toolbox.mutate(offspring[0])\n",
        "\n",
        "    # Perform selection\n",
        "    selected_individuals = toolbox.select(population, 3)\n",
        "\n",
        "    # Print the results\n",
        "    print(\"Selected Individuals:\", selected_individuals)\n",
        "    print(\"Offspring after crossover and mutation:\", offspring)\n"
      ],
      "metadata": {
        "colab": {
          "base_uri": "https://localhost:8080/"
        },
        "id": "rwpo68MZzcgU",
        "outputId": "d6e1a71c-8079-4584-fae8-892ac9537da1"
      },
      "execution_count": null,
      "outputs": [
        {
          "output_type": "stream",
          "name": "stdout",
          "text": [
            "Selected Individuals: [[2, 0, 1, 4, 3], [1, 2, 3, 0, 4], [2, 3, 0, 1, 4]]\n",
            "Offspring after crossover and mutation: ([3, 0, 2, 3, 1], [2, 4, 4, 0, 1])\n"
          ]
        }
      ]
    },
    {
      "cell_type": "code",
      "source": [
        "toolbox.register(\"mate\", tools.cxPartialyMatched)  # Register the crossover function suitable for permutation-based representation\n",
        "toolbox.register(\"mutate\", tools.mutShuffleIndexes, indpb=0.05)  # Register the mutation function to shuffle indices with a 5% chance per index\n",
        "toolbox.register(\"select\", tools.selTournament, tournsize=3)  # Register the selection function using tournament selection"
      ],
      "metadata": {
        "id": "PU8yBKiwMbJ5"
      },
      "execution_count": null,
      "outputs": []
    },
    {
      "cell_type": "code",
      "source": [
        "import matplotlib.pyplot as plt\n",
        "\n",
        "def plot_routes(individual, locations, depot, num_vehicles, title=\"Routes\"):\n",
        "    plt.figure(figsize=(8, 6))\n",
        "\n",
        "    # Split the individual into vehicle routes\n",
        "    vehicle_routes = []\n",
        "    for i in range(num_vehicles):\n",
        "        vehicle_route = [depot] + [locations[individual[j]] for j in range(i, len(individual), num_vehicles)] + [depot]\n",
        "        vehicle_routes.append(vehicle_route)\n",
        "\n",
        "    # Plot each vehicle's route\n",
        "    for i, route in enumerate(vehicle_routes):\n",
        "        route_x, route_y = zip(*route)  # Unzip the coordinates into x and y lists\n",
        "        plt.plot(route_x, route_y, marker='o', label=f'Vehicle {i+1} Route')  # Plot the route with circles at each point\n",
        "\n",
        "    # Plot depot as a different marker (e.g., red)\n",
        "    depot_x, depot_y = zip(*[depot])\n",
        "    plt.scatter(depot_x, depot_y, color='red', s=100, marker='D', label=\"Depot\")\n",
        "\n",
        "    # Set labels and title\n",
        "    plt.xlabel('X Coordinates')\n",
        "    plt.ylabel('Y Coordinates')\n",
        "    plt.title(title)\n",
        "\n",
        "    # Show the legend\n",
        "    plt.legend()\n",
        "\n",
        "    # Show the plot\n",
        "    plt.grid(True)\n",
        "    plt.show()\n",
        "\n",
        "# Example usage:\n",
        "individual = [0, 1, 2, 3, 4, 5, 6, 7]\n",
        "locations = [(90, 90), (186, 285), (27, 469), (345, 36), (49, 287), (599, 510), (56, 1362), (766, 14)]\n",
        "depot = (0, 0)\n",
        "num_vehicles = 3\n",
        "\n",
        "\n",
        "plot_routes(individual, locations, depot, num_vehicles)\n"
      ],
      "metadata": {
        "colab": {
          "base_uri": "https://localhost:8080/",
          "height": 564
        },
        "id": "KMEKU1exMgrq",
        "outputId": "ca0986d6-6bbd-4f24-901d-36a70b0b61aa"
      },
      "execution_count": null,
      "outputs": [
        {
          "output_type": "display_data",
          "data": {
            "text/plain": [
              "<Figure size 800x600 with 1 Axes>"
            ],
            "image/png": "[encoded data removed]"
          },
          "metadata": {}
        }
      ]
    }
  ]
}